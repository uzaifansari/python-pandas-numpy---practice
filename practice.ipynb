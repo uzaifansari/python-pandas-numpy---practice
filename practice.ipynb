{
 "cells": [
  {
   "cell_type": "code",
   "execution_count": 17,
   "id": "44ced92c",
   "metadata": {},
   "outputs": [],
   "source": [
    "import pandas as pd"
   ]
  },
  {
   "cell_type": "code",
   "execution_count": 18,
   "id": "d06b985f",
   "metadata": {},
   "outputs": [],
   "source": [
    "orders_data =  pd.read_csv(\"orders_data.csv\")"
   ]
  },
  {
   "cell_type": "code",
   "execution_count": 19,
   "id": "6b784ebf",
   "metadata": {},
   "outputs": [],
   "source": [
    "orders_df = pd.DataFrame(orders_data) #converts the dataset to Pandas Data Frame"
   ]
  },
  {
   "cell_type": "code",
   "execution_count": 20,
   "id": "0c253d91",
   "metadata": {},
   "outputs": [
    {
     "name": "stdout",
     "output_type": "stream",
     "text": [
      "   OrderID CustomerName   Product     Category  Quantity  PricePerUnit  \\\n",
      "0      101        Alice   T-Shirt     Clothing         2           500   \n",
      "1      102          Bob     Shoes     Footwear         1          2000   \n",
      "2      103      Charlie  Trousers     Clothing         3          1200   \n",
      "3      104        David   T-Shirt     Clothing         5           500   \n",
      "4      105          Eva     Shoes     Footwear         2          2200   \n",
      "5      106        Frank       Hat  Accessories         4           300   \n",
      "6      107        Grace   T-Shirt     Clothing         1           550   \n",
      "7      108        Helen  Trousers     Clothing         2          1100   \n",
      "\n",
      "    OrderDate       City  TotalAmount  \n",
      "0  01-09-2025      Delhi         1000  \n",
      "1  02-09-2025     Mumbai         2000  \n",
      "2  02-09-2025      Delhi         3600  \n",
      "3  03-09-2025  Bangalore         2500  \n",
      "4  03-09-2025    Chennai         4400  \n",
      "5  04-09-2025     Mumbai         1200  \n",
      "6  05-09-2025      Delhi          550  \n",
      "7  05-09-2025    Chennai         2200  \n"
     ]
    }
   ],
   "source": [
    "print(orders_df)"
   ]
  },
  {
   "cell_type": "code",
   "execution_count": 21,
   "id": "205e1038",
   "metadata": {},
   "outputs": [
    {
     "name": "stdout",
     "output_type": "stream",
     "text": [
      "   OrderID CustomerName   Product  Category  Quantity  PricePerUnit  \\\n",
      "0      101        Alice   T-Shirt  Clothing         2           500   \n",
      "1      102          Bob     Shoes  Footwear         1          2000   \n",
      "2      103      Charlie  Trousers  Clothing         3          1200   \n",
      "3      104        David   T-Shirt  Clothing         5           500   \n",
      "4      105          Eva     Shoes  Footwear         2          2200   \n",
      "\n",
      "    OrderDate       City  TotalAmount  \n",
      "0  01-09-2025      Delhi         1000  \n",
      "1  02-09-2025     Mumbai         2000  \n",
      "2  02-09-2025      Delhi         3600  \n",
      "3  03-09-2025  Bangalore         2500  \n",
      "4  03-09-2025    Chennai         4400  \n"
     ]
    }
   ],
   "source": [
    "print(orders_df.head()) # prints the first 5 rows of the dataframe."
   ]
  },
  {
   "cell_type": "code",
   "execution_count": 22,
   "id": "0c954481",
   "metadata": {},
   "outputs": [
    {
     "name": "stdout",
     "output_type": "stream",
     "text": [
      "<class 'pandas.core.frame.DataFrame'>\n",
      "RangeIndex: 8 entries, 0 to 7\n",
      "Data columns (total 9 columns):\n",
      " #   Column        Non-Null Count  Dtype \n",
      "---  ------        --------------  ----- \n",
      " 0   OrderID       8 non-null      int64 \n",
      " 1   CustomerName  8 non-null      object\n",
      " 2   Product       8 non-null      object\n",
      " 3   Category      8 non-null      object\n",
      " 4   Quantity      8 non-null      int64 \n",
      " 5   PricePerUnit  8 non-null      int64 \n",
      " 6   OrderDate     8 non-null      object\n",
      " 7   City          8 non-null      object\n",
      " 8   TotalAmount   8 non-null      int64 \n",
      "dtypes: int64(4), object(5)\n",
      "memory usage: 708.0+ bytes\n",
      "None\n"
     ]
    }
   ],
   "source": [
    "print(orders_df.info()) # prints the info about all the columns"
   ]
  },
  {
   "cell_type": "code",
   "execution_count": 23,
   "id": "cf3b0dd4",
   "metadata": {},
   "outputs": [
    {
     "name": "stdout",
     "output_type": "stream",
     "text": [
      "         OrderID  Quantity  PricePerUnit  TotalAmount\n",
      "count    8.00000  8.000000      8.000000     8.000000\n",
      "mean   104.50000  2.500000   1043.750000  2181.250000\n",
      "std      2.44949  1.414214    723.798265  1314.191087\n",
      "min    101.00000  1.000000    300.000000   550.000000\n",
      "25%    102.75000  1.750000    500.000000  1150.000000\n",
      "50%    104.50000  2.000000    825.000000  2100.000000\n",
      "75%    106.25000  3.250000   1400.000000  2775.000000\n",
      "max    108.00000  5.000000   2200.000000  4400.000000\n"
     ]
    }
   ],
   "source": [
    "print(orders_df.describe()) # Gives out the basic counts and metrics about the columns with numbers."
   ]
  },
  {
   "cell_type": "code",
   "execution_count": 24,
   "id": "fe621d88",
   "metadata": {},
   "outputs": [
    {
     "name": "stdout",
     "output_type": "stream",
     "text": [
      "OrderID                101\n",
      "CustomerName         Alice\n",
      "Product            T-Shirt\n",
      "Category          Clothing\n",
      "Quantity                 2\n",
      "PricePerUnit           500\n",
      "OrderDate       01-09-2025\n",
      "City                 Delhi\n",
      "TotalAmount           1000\n",
      "Name: 0, dtype: object\n"
     ]
    }
   ],
   "source": [
    "print(orders_df.iloc[0]) # prints the selected row of the dataframe"
   ]
  },
  {
   "cell_type": "code",
   "execution_count": 25,
   "id": "56ce881b",
   "metadata": {},
   "outputs": [
    {
     "name": "stdout",
     "output_type": "stream",
     "text": [
      "0    101\n",
      "1    102\n",
      "2    103\n",
      "3    104\n",
      "4    105\n",
      "5    106\n",
      "6    107\n",
      "7    108\n",
      "Name: OrderID, dtype: int64\n"
     ]
    }
   ],
   "source": [
    "print(orders_df['OrderID']) # prints the selected column of the dataframe"
   ]
  },
  {
   "cell_type": "code",
   "execution_count": null,
   "id": "aa9c6900",
   "metadata": {},
   "outputs": [],
   "source": []
  }
 ],
 "metadata": {
  "kernelspec": {
   "display_name": "Python 3",
   "language": "python",
   "name": "python3"
  },
  "language_info": {
   "codemirror_mode": {
    "name": "ipython",
    "version": 3
   },
   "file_extension": ".py",
   "mimetype": "text/x-python",
   "name": "python",
   "nbconvert_exporter": "python",
   "pygments_lexer": "ipython3",
   "version": "3.12.1"
  }
 },
 "nbformat": 4,
 "nbformat_minor": 5
}
